{
  "cells": [
    {
      "cell_type": "markdown",
      "metadata": {
        "id": "rlE8UqxrDIez"
      },
      "source": [
        "### Install & import\n"
      ]
    },
    {
      "cell_type": "code",
      "execution_count": 31,
      "metadata": {
        "id": "cZiU4TKzznh9"
      },
      "outputs": [],
      "source": [
        "!pip install -U -q google-generativeai"
      ]
    },
    {
      "cell_type": "code",
      "execution_count": 32,
      "metadata": {
        "id": "kWIuwKG2_oWE"
      },
      "outputs": [],
      "source": [
        "# import necessary modules.\n",
        "import google.generativeai as genai\n",
        "import json\n",
        "import base64\n",
        "import pathlib\n",
        "import pprint\n",
        "import requests\n",
        "import mimetypes\n",
        "from IPython.display import Markdown"
      ]
    },
    {
      "cell_type": "markdown",
      "metadata": {
        "id": "Fet3lFjdKHEM"
      },
      "source": [
        "## Set the API key"
      ]
    },
    {
      "cell_type": "markdown",
      "metadata": {
        "id": "ZoRWILAtCzBE"
      },
      "source": [
        "Add your API_KEY to the secrets manager in the left pannel \"🔑\"."
      ]
    },
    {
      "cell_type": "code",
      "execution_count": 33,
      "metadata": {
        "id": "LaLCwNlkCyQd"
      },
      "outputs": [],
      "source": [
        "from google.colab import userdata\n",
        "\n",
        "# API_KEY=userdata.get('API_KEY') ## add ur key\n"
      ]
    },
    {
      "cell_type": "code",
      "execution_count": 34,
      "metadata": {
        "id": "qFz6YPQmcbOn"
      },
      "outputs": [],
      "source": [
        "#methods for calculating mrr and p@1\n",
        "def calculate_mrr(predictions, answers):\n",
        "\n",
        "    mrr_c = 0\n",
        "    for i in range(len(predictions)):\n",
        "        if answers[i] in predictions[i]:\n",
        "            rank = 1 / (predictions[i].index(answers[i]) + 1)\n",
        "            mrr_c += rank\n",
        "    mrr = mrr_c / len(predictions)\n",
        "    return mrr\n",
        "\n",
        "\n",
        "def calculate_precision_at_1(predictions, answers):\n",
        "    p_c = 0\n",
        "    for i in range(len(predictions)):\n",
        "        if answers[i] == predictions[i][0]:\n",
        "            p_c += 1\n",
        "\n",
        "    precision_at_1 = p_c / len(predictions)\n",
        "\n",
        "    return precision_at_1\n",
        "\n"
      ]
    },
    {
      "cell_type": "code",
      "execution_count": 35,
      "metadata": {
        "id": "_SvYoR3WCeKr"
      },
      "outputs": [],
      "source": [
        "# Configure the client library by providing your API key.\n",
        "genai.configure(api_key=API_KEY)"
      ]
    },
    {
      "cell_type": "markdown",
      "metadata": {
        "id": "weo-o73WDpdm"
      },
      "source": [
        "### Parse the arguments"
      ]
    },
    {
      "cell_type": "code",
      "execution_count": 36,
      "metadata": {
        "id": "uIog-0SyDuIF"
      },
      "outputs": [],
      "source": [
        "model = \"gemini-pro\" # @param {isTemplate: true}\n",
        "contents_b64 = \"W3sicm9sZSI6InVzZXIiLCAicGFydHMiIDogW3sidGV4dCI6ICJoZWxsbyJ9XX0sIHsicm9sZSI6ICJtb2RlbCIsICJwYXJ0cyI6IFt7InRleHQiOiAiSGVsbG8hIEhvdyBjYW4gSSBhc3Npc3QgeW91IHRvZGF5PyJ9XX1d\" # @param {isTemplate: true}\n",
        "generation_config_b64 = \"e30=\" # @param {isTemplate: true}\n",
        "safety_settings_b64 = \"e30=\" # @param {isTemplate: true}\n",
        "user_input_b64 = 'SG93IGRvZXMgZWxlY3RyaWNpdHkgd29yaz8=' #@param {isTemplate: true}\n",
        "\n",
        "contents = json.loads(base64.b64decode(contents_b64))\n",
        "generation_config = json.loads(base64.b64decode(generation_config_b64))\n",
        "safety_settings = json.loads(base64.b64decode(safety_settings_b64))\n",
        "user_input = base64.b64decode(user_input_b64).decode()\n",
        "stream = False"
      ]
    },
    {
      "cell_type": "code",
      "execution_count": 37,
      "metadata": {
        "colab": {
          "base_uri": "https://localhost:8080/"
        },
        "id": "wBS8xNhN0x62",
        "outputId": "3dfcfbca-5aed-471d-cb07-1a8265eba8c7"
      },
      "outputs": [
        {
          "data": {
            "text/plain": [
              "[{'role': 'user', 'parts': [{'text': 'hello'}]},\n",
              " {'role': 'model', 'parts': [{'text': 'Hello! How can I assist you today?'}]}]"
            ]
          },
          "execution_count": 37,
          "metadata": {},
          "output_type": "execute_result"
        }
      ],
      "source": [
        "contents"
      ]
    },
    {
      "cell_type": "code",
      "execution_count": 38,
      "metadata": {
        "colab": {
          "base_uri": "https://localhost:8080/"
        },
        "id": "1681593ef561",
        "outputId": "875b7803-a794-462f-c7c3-e6121ced6dd5"
      },
      "outputs": [
        {
          "data": {
            "text/plain": [
              "{}"
            ]
          },
          "execution_count": 38,
          "metadata": {},
          "output_type": "execute_result"
        }
      ],
      "source": [
        "generation_config"
      ]
    },
    {
      "cell_type": "code",
      "execution_count": 39,
      "metadata": {
        "colab": {
          "base_uri": "https://localhost:8080/"
        },
        "id": "a2c31f8f1894",
        "outputId": "e7e11a8e-de0b-4d56-ae3d-db880a368e8c"
      },
      "outputs": [
        {
          "data": {
            "text/plain": [
              "{}"
            ]
          },
          "execution_count": 39,
          "metadata": {},
          "output_type": "execute_result"
        }
      ],
      "source": [
        "safety_settings"
      ]
    },
    {
      "cell_type": "code",
      "execution_count": 40,
      "metadata": {
        "id": "QcAs9euTPdv-"
      },
      "outputs": [],
      "source": [
        "processed_queries_path='/content/queriesProcessed.txt'\n",
        "\n"
      ]
    },
    {
      "cell_type": "code",
      "execution_count": 41,
      "metadata": {
        "id": "zVqKoph1PM4Y"
      },
      "outputs": [],
      "source": [
        "# parse the query responses from Lucene based Engine and create appropriate queries/batches fro LLM\n",
        "\n",
        "queriesContents=open(processed_queries_path,'r+').read()\n",
        "queries=queriesContents.split('|\\n')\n",
        "\n",
        "\n",
        "QueryToLLMPrefix='Can you re-rank the answers for the following queries generated by our engine?\\n'\n",
        "QueryToLLMPrefix+='Please only output a list of strings as text like: [str1, str2, str3], [str1, str2, str3]  \\n'\n",
        "queries_to_llm=[]\n",
        "batches_len=20\n",
        "oneFullQUery=''\n",
        "oneFullQUery+=QueryToLLMPrefix\n",
        "query_batches=[]\n",
        "answers=[]\n",
        "current_batch_text=''\n",
        "current_batch_text+=QueryToLLMPrefix\n",
        "for idx,q in enumerate(queries):\n",
        "\n",
        "  QueryToLLM=''\n",
        "  furtherContents=q.split('[content]\\n')\n",
        "  if len(furtherContents)!=4:\n",
        "    continue\n",
        "  query=furtherContents[1]\n",
        "  answer=furtherContents[2]\n",
        "  answersWatson=furtherContents[3]\n",
        "  QueryToLLM+=QueryToLLMPrefix\n",
        "  inside_Text=''\n",
        "  inside_Text+=f'query: {query}\\n'\n",
        "  inside_Text+=f'Our list of answers ranked: {answersWatson}\\n'\n",
        "  QueryToLLM+=inside_Text\n",
        "  queries_to_llm.append(QueryToLLM)\n",
        "  answers.append(answer)\n",
        "  oneFullQUery+=inside_Text\n",
        "  current_batch_text+=inside_Text\n",
        "  if (idx+1)%batches_len==0:\n",
        "    query_batches.append(f'{current_batch_text}\\n give code as a python list')\n",
        "    current_batch_text=QueryToLLMPrefix\n",
        "\n",
        "\n",
        "\n"
      ]
    },
    {
      "cell_type": "markdown",
      "metadata": {
        "id": "zZJVNwq7YumL"
      },
      "source": []
    },
    {
      "cell_type": "markdown",
      "metadata": {
        "id": "E7zAD69vE92b"
      },
      "source": [
        "### Call the API"
      ]
    },
    {
      "cell_type": "code",
      "execution_count": 42,
      "metadata": {
        "id": "OyKkh_wvSyCD"
      },
      "outputs": [],
      "source": [
        "processed_queries=[]\n",
        "query_responses_LLM_objects=[]\n",
        "query_responses_LLM_strings=[]\n",
        "oneFullQueryResponse=''"
      ]
    },
    {
      "cell_type": "code",
      "execution_count": 43,
      "metadata": {
        "id": "LB2LxPmAB95V"
      },
      "outputs": [],
      "source": [
        "# The following code was meant to generate llm respones for created queries via api\n",
        "# the api limit reached so we had to manually copy the responses from the engines\n",
        "\n",
        "\n",
        "\n",
        "# gemini = genai.GenerativeModel(model_name=model)\n",
        "\n",
        "# chat = gemini.start_chat(history=contents)\n",
        "\n",
        "\n",
        "# for query in query_batches:\n",
        "#   if query not in processed_queries:\n",
        "#     response = chat.send_message(\n",
        "#         query,\n",
        "#         stream=stream)\n",
        "#     query_responses_LLM_objects.append(response)\n",
        "#     query_responses_LLM_strings.append(response.text)\n",
        "#     processed_queries.append(query)\n"
      ]
    },
    {
      "cell_type": "code",
      "execution_count": 44,
      "metadata": {
        "colab": {
          "base_uri": "https://localhost:8080/"
        },
        "id": "vNQdXAbacGM0",
        "outputId": "4a8ae91c-dc44-4029-e5f6-f80354d281f9"
      },
      "outputs": [
        {
          "name": "stdout",
          "output_type": "stream",
          "text": [
            "Batch 1:\n",
            " Can you re-rank the answers for the following queries generated by our engine?\n",
            "Please only output a list of strings as text like: [str1, str2, str3], [str1, str2, str3]  \n",
            "query: CAPITAL CITY CHURCHES (Alex: We'll give you the church. You tell us the capital city in which it is located.) The High Kirk of St. Giles, where John Knox was minister\n",
            "Our list of answers ranked: [Church of Scotland, John Knox, John the Baptist, Edinburgh, Perth, Scotland, Mary of Bethany, Alexander Kolchak, Annapolis, Maryland, Genius loci, Edessa]\n",
            "query: NEWSPAPERS This Georgia paper is known as the AJC for short\n",
            "Our list of answers ranked: [The Atlanta Journal-Constitution, Interstate 285, Georgia (U.S. state), Thoroughbred racing in Australia, Cherokee language, The Tabernacle, The Five Orange Pips, IBM Series/1, Red Skelton, William C. Roberts]\n",
            "query: NAME THE PARENT COMPANY Milton Bradley games\n",
            "Our list of answers ranked: [Axis & Allies, Hasbro, Vectrex, Battleship (game), Snakes and Ladders, Microvision, Crayon, Magnavox Odyssey, The Electric Company, Snake (video game)]\n",
            "query: CAPITAL CITY CHURCHES (Alex: We'll give you the church. You tell us the capital city in which it is located.) In this Finnish city, the Lutheran Cathedral, also known as Tuomiokirkko\n",
            "Our list of answers ranked: [Savonlinna, Tampere, Trondheim, Espoo, Edessa, Turku, Omsk, Pope, Magdeburg, New Year's Eve]\n",
            "query: 1920s NEWS FLASH! 1922: It's the end of an empire! This empire, in fact! After 600 years, it's goodbye, this, hello, Turkish Republic!\n",
            "Our list of answers ranked: [Lycia, History of Armenia, File:Balkan-nations.jpg|thumb|right|250px|The nationalities of Southeastern Europe in the late 19th century represented in Pallas Nagy Lexikona, 189, British Army, File:Europe subregion map UN geoschme.svg|thumb|350px|Regions used for statistical processing purposes by the United Nations Statistics Division (Eastern Europe marked red), Aftermath of World War I, Kurdish people, Trabzon, Cyprus, Cologne]\n",
            "query: STATE OF THE ART MUSEUM (Alex: We'll give you the museum. You give us the state.) The Taft Museum of Art\n",
            "Our list of answers ranked: [Museum of Science and Industry (Chicago), Bhavacakra, Sculpture of the United States, Red Jacket, Michael Bierut, File:WestBankBarrier443.jpg|right|thumb|Section of West Bank barrier located on Route 443, near Jerusalem. Painting was likely done by the official contractor.\"... Under painted arches one can glimpse expanses of green lawns and perpetually blue skies, painted by an artist on the gray concrete that hides the Arabs' homes.\" (Gideon Levy, \"What You See and What You Don't on the Maccabim-Reut Highway to Jerussalem,\" Ha'aretz, 20 January 2005, Source: Journal of Palestine Studies, Vol. 34, No. 3 (Spring, 2005), pp. 113–11, Tracey Emin, Newseum, Terre Haute, Indiana, Narasimha]\n",
            "query: HISTORICAL QUOTES In 1888 this Chancellor told the Reichstag, \"we Germans fear God, but nothing else in the world\"\n",
            "Our list of answers ranked: [Wilhelm II, German Emperor, Otto von Bismarck, Imperial German Navy, Heinrich Brüning, Enabling Act of 1933, Joseph Chamberlain, Hermann Göring, Theobald von Bethmann-Hollweg, Lists of office-holders, Tear down this wall!]\n",
            "query: HISTORICAL QUOTES In a 1959 American kitchen exhibit in Moscow, he told Khrushchev, \"In America, we like to make life easier for women\"\n",
            "Our list of answers ranked: [American National Exhibition, William Safire, Cuban missile crisis, Yuri Zhukov (journalist), Harlem Globetrotters, History of the People's Republic of China (1949–76), Leonid Brezhnev, Yuri Gagarin, Morris Childs, Georgy Zhukov]\n",
            "query: AFRICAN CITIES The name of this largest Moroccan city combines 2 Spanish words\n",
            "Our list of answers ranked: [Casablanca, Oran, Marrakesh, Leo Africanus, Western Sahara, Canary Islands, Agadir, Extremadura, Melilla, History of Western Sahara]\n",
            "query: NEWSPAPERS In 1840 Horace Greeley began publishing \"The Log Cabin\", a weekly campaign paper in support of this Whig candidate\n",
            "Our list of answers ranked: [Horace Greeley, William Henry Harrison, Schuyler Colfax, William Lyon Mackenzie, Anti-Masonic Party, W. C. Handy, Outing, Queer Nation, Libertarian perspectives on LGBT rights, The Day (New London)]\n",
            "\n",
            " give code as a python list\n",
            "Batch 2:\n",
            " Can you re-rank the answers for the following queries generated by our engine?\n",
            "Please only output a list of strings as text like: [str1, str2, str3], [str1, str2, str3]  \n",
            "query: AFRICAN CITIES Several bridges, including El Tahrir, cross the Nile in this capital\n",
            "Our list of answers ranked: [Cairo, Khartoum, Nile, Prefecture Apostolic of the Delta of the Nile, History of Egypt, Omdurman, 2003 Boumerdès earthquake, Murcia, Kinshasa, Crossing the Red Sea]\n",
            "query: OLD YEAR'S RESOLUTIONS U.N. Res. 242 supports \"secure and recognized boundaries\" for Israel & neighbors following this June 1967 war\n",
            "Our list of answers ranked: [Golan Heights, Camp David Accords, United Nations Partition Plan for Palestine, United Nations Commission on Human Rights, Israeli–Palestinian conflict, Israel and legitimacy, West Bank, Politics of the Palestinian National Authority, Jenin, 1949 Armistice Agreements]\n",
            "query: THAT 20-AUGHTS SHOW A 2-part episode of \"JAG\" introduced this Mark Harmon drama\n",
            "Our list of answers ranked: [List of NCIS characters, Law & Order, The West Wing, Cold Feet, The Adventures of Ozzie and Harriet, The Sarah Jane Adventures, Fair City, Gunsmoke, Doctors (soap opera), Big Finish Productions]\n",
            "query: CEMETERIES The mast from the USS Maine is part of the memorial to the ship & crew at this national cemetery\n",
            "Our list of answers ranked: [USS Arizona Memorial, Margate Surfboat, Robert Ballard, Thomas W. Lawson (ship), Burma Railway, Richard Henry Dana, Jr., Tora! Tora! Tora!, George Henry Preble, CSS Virginia, Tomb of the Unknowns]\n",
            "query: SERVICE ORGANIZATIONS Father Michael McGivney founded this fraternal society for Catholic laymen in 1882\n",
            "Our list of answers ranked: [Knights of Columbus, Studentenverbindung, Knights of Labor, St. Vincent de Paul Church (Manhattan), Omega Psi Phi, Felix Frankfurter, Sacred Heart Catholic Church (McCartyville, Ohio), St. Mary's Church (Wappingers Falls, New York), Grand Army of the Republic, William George Ward]\n",
            "query: THE RESIDENTS Don Knotts took over from Norman Fell as the resident landlord on this sitcom\n",
            "Our list of answers ranked: [Don Knotts, Three's Company, John Ritter, San Pedro, Laguna, Tim Conway, Bill Bixby, County Mayo, Francisco Tenamaztle, Leonard Rossiter, Image:FEMA - 1807 - Photograph by Robert A. Eplett taken on 01-17-1994 in California.jpg|thum]\n",
            "query: STATE OF THE ART MUSEUM (Alex: We'll give you the museum. You give us the state.) The Naples Museum of Art\n",
            "Our list of answers ranked: [Bhavacakra, Red Jacket, Michael Bierut, File:WestBankBarrier443.jpg|right|thumb|Section of West Bank barrier located on Route 443, near Jerusalem. Painting was likely done by the official contractor.\"... Under painted arches one can glimpse expanses of green lawns and perpetually blue skies, painted by an artist on the gray concrete that hides the Arabs' homes.\" (Gideon Levy, \"What You See and What You Don't on the Maccabim-Reut Highway to Jerussalem,\" Ha'aretz, 20 January 2005, Source: Journal of Palestine Studies, Vol. 34, No. 3 (Spring, 2005), pp. 113–11, Tracey Emin, Nativity scene, Newseum, Terre Haute, Indiana, Narasimha, Devon Dikeou]\n",
            "query: STATE OF THE ART MUSEUM (Alex: We'll give you the museum. You give us the state.) The Georgia O'Keeffe Museum\n",
            "Our list of answers ranked: [Alfred Stieglitz, Edward Hopper, Bhavacakra, Henry Hart (musician), Yousuf Karsh, Red Jacket, Robert Altman (photographer), Michael Bierut, File:WestBankBarrier443.jpg|right|thumb|Section of West Bank barrier located on Route 443, near Jerusalem. Painting was likely done by the official contractor.\"... Under painted arches one can glimpse expanses of green lawns and perpetually blue skies, painted by an artist on the gray concrete that hides the Arabs' homes.\" (Gideon Levy, \"What You See and What You Don't on the Maccabim-Reut Highway to Jerussalem,\" Ha'aretz, 20 January 2005, Source: Journal of Palestine Studies, Vol. 34, No. 3 (Spring, 2005), pp. 113–11, John Mellencamp]\n",
            "query: NEWSPAPERS Daniel Hertzberg & James B. Stewart of this paper shared a 1988 Pulitzer for their stories about insider trading\n",
            "Our list of answers ranked: [The Wall Street Journal, Newseum, The Baltimore Sun, Michael Milken, Los Angeles Times, William Jardine (merchant), The Atlanta Journal-Constitution, The Washington Post, Dow Jones & Company, Hedrick Smith]\n",
            "query: SERVICE ORGANIZATIONS In 1843 Isaac Dittenhoefer became the first pres. of this Jewish club whose name means \"children of the covenant\"\n",
            "Our list of answers ranked: [B'nai B'rith, Schwabacher Brothers, Mormonism, Wandering Jew, Kaddish, Hampton-in-Arden, Isaac Asimov, Cave of the Patriarchs, David Ben-Gurion, Congregation Beth Israel-Judea]\n",
            "\n",
            " give code as a python list\n",
            "Batch 3:\n",
            " Can you re-rank the answers for the following queries generated by our engine?\n",
            "Please only output a list of strings as text like: [str1, str2, str3], [str1, str2, str3]  \n",
            "query: CAMBODIAN HISTORY & CULTURE Not to be confused with karma, krama is a popular accessory sold in cambodia; the word means \"scarf\" in this national language of Cambodia\n",
            "Our list of answers ranked: [Politics of Cambodia, Khmer language, History of Cambodia, Siem Reap, Ikat, Khmer Rouge, Economy of Cambodia, Ho Chi Minh City, Indies, Reamker]\n",
            "query: CAMBODIAN HISTORY & CULTURE Phnom Penh's notorious gridlock is circumvented by the nimble tuk-tuk, a motorized taxi that's also known as an auto this, a similar Asian conveyance.\n",
            "Our list of answers ranked: [Siem Reap, Cycle rickshaw, Khmer language, Mekong, Khmer Rouge, History of Cambodia, Music of Barbados, Olympic Stadium (Phnom Penh), Transport in Cambodia, Economy of Cambodia]\n",
            "query: '80s NO.1 HITMAKERS 1988: \"Man In The Mirror\"\n",
            "Our list of answers ranked: [Fontana Records, Them Again, Judy Rodman, Funk metal, Belinda (Belinda Carlisle album), Lockheed P-80 Shooting Star, Mark Fosson, Nikki & Rich, Lou Bega, The Kids from \"Fame\"]\n",
            "query: GOLDEN GLOBE WINNERS In 2009: Sookie Stackhouse\n",
            "Our list of answers ranked: [Anna Paquin, Jimmy Harry, Warren Beatty, One Chance (film), Paul Le Mat, Geoffrey Rush, Joan Plowright, Jim Broadbent, Helen Hunt, Sally Kirkland]\n",
            "query: AFRICAN-AMERICAN WOMEN In an essay defending this 2011 film, Myrlie Evers-Williams said, \"My mother was\" this film \"& so was her mother\"\n",
            "Our list of answers ranked: [Penny Marshall, Medgar Evers, Phoebe Cates, Hans Zimmer, Bessie Coleman, Zora Neale Hurston, Gloria Steinem, Chloë Sevigny, Al Lewis (actor), Scottsboro Boys]\n",
            "query: THE RESIDENTS Kinch, Carter & LeBeau were all residents of Stalag 13 on this TV show\n",
            "Our list of answers ranked: [Hogan's Heroes, John Carter (ER), Cincinnati Bengals, Gary Burghoff, File:Scott Lab OSU.jpg|thumb|350px|left|Scott Laboratory, housing the Mechanical and Aerospace Engineering department. This facility is a joint effort between BHDP Architecture and Polshek Partnership Architect, Episode Six, Scottsboro Boys, Paul Oakenfold, Jerry Brown, Georgia (U.S. state)]\n",
            "query: CAPITAL CITY CHURCHES (Alex: We'll give you the church. You tell us the capital city in which it is located.) Matthias Church, or Matyas Templom, where Franz Joseph was crowned in 1867\n",
            "Our list of answers ranked: [History of Buda Castle, File:AquincM4.jpg|thumb||Aquincum Museum (Aquincum was the capital of the Roman province , Olomouc, Edessa, Saint Matthias, Corleone, Defenestrations of Prague, John the Baptist, Pope, Votive Church, Vienna]\n",
            "query: BROADWAY LYRICS Song that says, \"you make me smile with my heart; your looks are laughable, unphotographable\"\n",
            "Our list of answers ranked: [Bess, You Is My Woman Now, Hello, Hawaii, How Are You?, Oklahoma!, Jesus Christ Superstar (film), The Lamb Lies Down on Broadway, Mack Gordon, Irving Berlin, Oscar Hammerstein II, BE (Pain of Salvation album), Jerome Kern]\n",
            "query: \"TIN\" MEN You can't mention this shortstop without mentioning his double-play associates Evers & Chance\n",
            "Our list of answers ranked: [Triple play, Paul Molitor, Charlie Gehringer, Hughie Jennings, Honus Wagner, Moe Berg, Humphrey Bogart, Joe Tinker, A Few Questions, Rogers Hornsby]\n",
            "query: RANKS & TITLES Italian for \"leader\", it was especially applied to Benito Mussolini\n",
            "Our list of answers ranked: [Duce, Neo-fascism, Vilfredo Pareto, Alessandra Mussolini, Fascism in Europe, Ismet Popovac, Foreign relations of Italy, Eoin O'Duffy, Trento, Cult of personality]\n",
            "\n",
            " give code as a python list\n",
            "Batch 4:\n",
            " Can you re-rank the answers for the following queries generated by our engine?\n",
            "Please only output a list of strings as text like: [str1, str2, str3], [str1, str2, str3]  \n",
            "query: NOTES FROM THE CAMPAIGN TRAIL In \"The Deadlocked Election of 1800\", James R. Sharp outlines the fall of this dueling vice president\n",
            "Our list of answers ranked: [Richard Mentor Johnson, Aaron Burr, William O. Douglas, Kit Bond, John C. Breckinridge, Society of the Army of Santiago de Cuba, Vietnam War, John DeLorean, Republican Party presidential primaries, 1976, Elliott Roosevelt]\n",
            "query: POTPOURRI Large specimens of this marsupial can leap over barriers 6 feet high\n",
            "Our list of answers ranked: [Kangaroo, Fauna of Australia, Tammar wallaby, Velociraptor, Koala, Kakapo, Adobe Creek (near Los Altos, California), Agathis australis, Sequoiadendron giganteum, Penny-farthing]\n",
            "query: HISTORICAL HODGEPODGE It was the peninsula fought over in the peninsular war of 1808 to 1814\n",
            "Our list of answers ranked: [Ferdinand VII of Spain, Napoleonic Wars, History of Spain, War of the Sixth Coalition, Battle of Roliça, FitzRoy Somerset, 1st Baron Raglan, Vicente Genaro de Quesada, Godfrey Macdonald, 3rd Baron Macdonald of Slate, Battle of Lundy's Lane, 1800s (decade)]\n",
            "query: NEWSPAPERS Early in their careers, Mark Twain & Bret Harte wrote pieces for this California city's Chronicle\n",
            "Our list of answers ranked: [Bret Harte, Joaquin Miller, 1860 Wiyot Massacre, Dave Meltzer, Ken Howard, George Carlin, Kurt Vonnegut, Kansas City Royals, Herman Charles Bosman, William Randolph Hearst]\n",
            "query: THE RESIDENTS Title residence of Otter, Flounder, Pinto & Bluto in a 1978 comedy\n",
            "Our list of answers ranked: [Animal House, Bluto, National Lampoon (magazine), Flounder, Cheech & Chong, Bozo the Clown, British Central Africa Protectorate, Ecology of the San Francisco Estuary, Claudia Galli, Gigging]\n",
            "query: COMPLETE DOM-INATION(Alex: Not \"domination.\") This New Orleans venue reopened Sept. 25, 2006\n",
            "Our list of answers ranked: [Mercedes-Benz Superdome, Tameside Hippodrome, Louis Armstrong New Orleans International Airport, Saenger Theatre (New Orleans, Louisiana), Jimmy Walter, HMV, Shreveport Symphony Orchestra, Hammersmith Apollo, The Strokes, Paul Gregg]\n",
            "query: NAME THE PARENT COMPANY Fisher-Price toys\n",
            "Our list of answers ranked: [Little People, Hasbro, Mattel, Toy Town Museum, Buzzy Bee, Arthur Treacher's, Super Friends, Cabbage Patch Kids, Powel Crosley, Jr., Pixar]\n",
            "query: POTPOURRI One of the N.Y. Times' headlines on this landmark 1973 Supreme Court decision was \"Cardinals shocked\"\n",
            "Our list of answers ranked: [Regents of the University of California v. Bakke, Griswold v. Connecticut, Miller v. California, Byron White, Caveat emptor, Clear and present danger, Romer v. Evans, Roe v. Wade, William J. Brennan, Jr., Lambda Legal]\n",
            "query: NAME THE PARENT COMPANY Post-it notes\n",
            "Our list of answers ranked: [US Airways Group, Bank of China (Hong Kong), Enterprise Rent-A-Car, Quebecor, Newcastle Emlyn, Annie (musical), George Costanza, Accuracy in Media, Huw Edwards (conductor), William Dean Singleton]\n",
            "query: STATE OF THE ART MUSEUM (Alex: We'll give you the museum. You give us the state.) The Sun Valley Center for the Arts\n",
            "Our list of answers ranked: [Red Jacket, Terre Haute, Indiana, Narasimha, Bhavacakra, Edward Hopper, My Neighbor Totoro, Chinatown, Los Angeles, Phoenix, Arizona, Museum of Contemporary Art, Chicago, Louisiana State University]\n",
            "\n",
            " give code as a python list\n",
            "Batch 5:\n",
            " Can you re-rank the answers for the following queries generated by our engine?\n",
            "Please only output a list of strings as text like: [str1, str2, str3], [str1, str2, str3]  \n",
            "query: UCLA CELEBRITY ALUMNI Attending UCLA in the '60s, he was no \"Meathead\", he just played one later on television\n",
            "Our list of answers ranked: [Rob Reiner, James Dean, Kareem Abdul-Jabbar, Heather Locklear, Lionel Richie, Animal Crackers (film), University of California, Los Angeles, Ron Pitts, Jeff Cohen (actor), Daniel Baldwin]\n",
            "query: NAME THE PARENT COMPANY Jell-O\n",
            "Our list of answers ranked: [Jell-O, Cold Stone Creamery, Arch West, Olive loaf, Jelling stones, Camp Roger, Don Wilson (announcer), James Beard, 3rd Rock from the Sun, Jello mold]\n",
            "query: '80s NO.1 HITMAKERS 1989: \"Miss You Much\"\n",
            "Our list of answers ranked: [Fontana Records, Them Again, Judy Rodman, Funk metal, Belinda (Belinda Carlisle album), Lockheed P-80 Shooting Star, Mark Fosson, Nikki & Rich, Lou Bega, The Kids from \"Fame\"]\n",
            "query: COMPLETE DOM-INATION(Alex: Not \"domination.\") This Wisconsin city claims to have built the USA's only granite dome\n",
            "Our list of answers ranked: [El Capitolio, Yosemite Valley, Madison, Wisconsin, Saint Isaac's Cathedral, Volkshalle, Frank Zeidler, Hudson County Courthouse, Chrysler Building, Blackstone Library, Milwaukee Road 261]\n",
            "query: AFRICAN CITIES This port is the southernmost of South Africa's 3 capitals\n",
            "Our list of answers ranked: [Zanzibar, Urbanization in Africa, Dakar, Luanda, History of Africa, Monrovia, Cape Town, Khartoum, Transport in Lesotho, Economy of Namibia]\n",
            "query: I'M BURNIN' FOR YOU France's Philip IV--known as \"The Fair\"--had Jacques De Molay, the last Grand Master of this order, burned in 1314\n",
            "Our list of answers ranked: [Philip IV of France, Knights Templar, Charles IV of France, Ferdinand IV of Castile, Conciergerie, Colonna family, Louis IV, Holy Roman Emperor, John of Bohemia, List of Navarrese monarchs, Louis XIII of France]\n",
            "query: HISTORICAL QUOTES After the fall of France in 1940, this general told his country, \"France has lost a battle. But France has not lost the war\"\n",
            "Our list of answers ranked: [File:Češi vyhnaní z pohraničí hledají nový domov.jpg|thumb|300px|right|Czechs expelled from the border looking for new home, October 19, Philippe Pétain, Hubert Lyautey, Leopold III of Belgium, Vo Nguyen Giap, William Dodd (ambassador), Alexandrine of Mecklenburg-Schwerin, Joachim von Ribbentrop, Charles de Gaulle, Anthony Eden]\n",
            "query: SERVICE ORGANIZATIONS Originally this club's emblem was a wagon wheel; now it's a gearwheel with 24 cogs & 6 spokes\n",
            "Our list of answers ranked: [De Poelen, Dronrijp, De Mearmin, Dokkum, Chevrolet Impala, Hammer and sickle, Chevrolet Celebrity, Pontiac, AMC Matador, Ambulance, Buick Century, Penny-farthing]\n",
            "query: CONSERVATION Indonesia's largest lizard, it's protected from poachers, though we wish it could breathe fire to do the job itself\n",
            "Our list of answers ranked: [Komodo dragon, United Kingdom general election, February 1974, Alaungdaw Kathapa National Park, Dragon (Middle-earth), Tony Fitzjohn, Affirmative action in the United States, Sleep (non-human), Rainforest, Bloom County, Bonar Law]\n",
            "query: NEWSPAPERS The dominant paper in our nation's capital, it's among the top 10 U.S. papers in circulation\n",
            "Our list of answers ranked: [Media of the United States, The Wall Street Journal, William Randolph Hearst, The Washington Post, Los Angeles Times, Harte Hanks, Jeff Sharlet (activist), Irish Independent, The New York Sun, Madison, Wisconsin]\n",
            "\n",
            " give code as a python list\n",
            "Batch 6:\n",
            " Can you re-rank the answers for the following queries generated by our engine?\n",
            "Please only output a list of strings as text like: [str1, str2, str3], [str1, str2, str3]  \n",
            "query: GREEK FOOD & DRINK This clear Greek liqueur is quite potent, so it's usually mixed with water, which turns it white & cloudy\n",
            "Our list of answers ranked: [Ouzo, Anise, List of coffee beverages, Mentha, Fennel, File:Pasta alla Norma (2563876877).jpg|thum, Rakı, Liqueur, Cashew, Pomegranate]\n",
            "query: \"TIN\" MEN He earned the \"fifth Beatle\" nickname by producing all of the Beatles' albums\n",
            "Our list of answers ranked: [Fifth Beatle, George Martin, Golden Earring, Apu Nahasapeemapetilon, Monty Python, Radiohead, Ringo Starr, Todd Rundgren, Little Richard, Harry Nilsson]\n",
            "query: CONSERVATION Early projects of the WWF, this organization, included work with the bald eagle & the red wolf\n",
            "Our list of answers ranked: [Falconry, Golden Eagle, Itasca State Park, Maasai Mara, File:Woody Guthrie NYWTS.jpg|thumb|upright|left|alt=Half-length photo of a middle-aged man sitting in front of a closed door and playing a guitar and singing. His wavy black hair is partly covered by a black hat tipped at a rakish angle. He wears a striped flannel work shirt. His black guitar has a sign on it that says, \"This machine kills fascists\".|Roll on, Columbia, roll on, roll on, Columbia, roll on / Your power is turning our darkness to dawn / Roll on, Columbia, roll o, Lahore Zoo, Tundi Spring Agardy, Ferruginous Hawk, United States Fish and Wildlife Service, Yellowstone National Park]\n",
            "query: STATE OF THE ART MUSEUM (Alex: We'll give you the museum. You give us the state.) The Kalamazoo Institute of Arts\n",
            "Our list of answers ranked: [Michael Bierut, Bhavacakra, Portage Northern High School, Terre Haute, Indiana, File:WestBankBarrier443.jpg|right|thumb|Section of West Bank barrier located on Route 443, near Jerusalem. Painting was likely done by the official contractor.\"... Under painted arches one can glimpse expanses of green lawns and perpetually blue skies, painted by an artist on the gray concrete that hides the Arabs' homes.\" (Gideon Levy, \"What You See and What You Don't on the Maccabim-Reut Highway to Jerussalem,\" Ha'aretz, 20 January 2005, Source: Journal of Palestine Studies, Vol. 34, No. 3 (Spring, 2005), pp. 113–11, Red Jacket, Jill Magid, Pete Simpson, Agnes Martin, Boston Children's Chorus]\n",
            "query: 1920s NEWS FLASH! Nov. 28, 1929! This man & his chief pilot Bernt Balchen fly to South Pole! Yowza! You'll be an admirable admiral, sir!\n",
            "Our list of answers ranked: [1929, Keith Park, George Hyde (admiral), Alan Shepard, USS Missouri (BB-63), Jimmy Doolittle, Flag of New Zealand, Royal Australian Navy, North Pole, Blue Angels]\n",
            "query: COMPLETE DOM-INATION(Alex: Not \"domination.\") This sacred structure dates from the late 600's A.D.\n",
            "Our list of answers ranked: [Izamal, Altun Ha, Tayasal (archaeological site), Svetitskhoveli Cathedral, Eadbald of Kent, Cologne Cathedral, Manbij, File:Spreading homo sapiens.svg|thumb|320px|Map of early human migrations[tpl]legend|#ff0000|Homo sapiens[/tp, Chichen Itza, Weather Report]\n",
            "query: CONSERVATION In 1980 China founded a center for these cute creatures in its bamboo-rich Wolong Nature Preserve\n",
            "Our list of answers ranked: [Chengdu, Oil reserves in Southeast Asia, Monteverde Cloud Forest Reserve, Wild rice, Geography of China, House, Leopard, Academy of Natural Sciences of Drexel University, Primorsky Krai, Vietnamese cuisine]\n",
            "query: OLD YEAR'S RESOLUTIONS The Kentucky & Virginia resolutions were passed to protest these controversial 1798 acts of Congress\n",
            "Our list of answers ranked: [Kentucky and Virginia Resolutions, Second Continental Congress, Patrick Henry, Stamp Act 1765, Hartford Convention, John C. Breckinridge, History of slavery in Indiana, Richard Henry Lee, Solomon P. Sharp, Emancipation Proclamation]\n",
            "query: RANKS & TITLES This person is the queen's representative in Canada; currently the office is held by David Johnston\n",
            "Our list of answers ranked: [Governor General of Canada, Order of Military Merit (Canada), Lincoln Alexander, Parliament of Canada, Charles Tupper, 100 Huntley Street, Brian Mulroney, Commonwealth Heads of Government Meeting, University of Calgary, House of Commons of Canada]\n",
            "query: UCLA CELEBRITY ALUMNI This woman who won consecutive heptathlons at the Olympics went to UCLA on a basketball scholarship\n",
            "Our list of answers ranked: [Jackie Joyner-Kersee, University of California, Los Angeles, Kareem Abdul-Jabbar, NC State Wolfpack men's basketball, Kevin Love, Bob Knight, Michigan Wolverines, Bellarmine-Jefferson High School, Maurice Greene (athlete), Wilma Rudolph]\n",
            "\n",
            " give code as a python list\n",
            "Batch 7:\n",
            " Can you re-rank the answers for the following queries generated by our engine?\n",
            "Please only output a list of strings as text like: [str1, str2, str3], [str1, str2, str3]  \n",
            "query: AFRICAN CITIES Wooden 2-story verandas in this Liberian capital are an architectural link to the U.S. south\n",
            "Our list of answers ranked: [Monrovia, Liberia, Jug Tavern, Glenview Mansion, Architecture of India, William R. Tolbert, Jr., History of Liberia, Ellwood House, Staunton, Virginia, Annapolis, Maryland]\n",
            "query: NOTES FROM THE CAMPAIGN TRAIL This bestseller about problems on the McCain-Palin ticket became an HBO movie with Julianne Moore\n",
            "Our list of answers ranked: [Game Change, Joe Lieberman, Margaret Cho, Jon Voight, Mark McKinnon, Michael Moore, Vice President of the United States, Gloria Steinem, Gina Gershon, Mark Sanford]\n",
            "query: HE PLAYED A GUY NAMED JACK RYAN IN... \"Patriot Games\"; he's had other iconic roles, in space & underground\n",
            "Our list of answers ranked: [Harrison Ford, Thora Birch, James Earl Jones, Racism in early American film, Bill Mumy, Walter Matthau, Candy Barr, Rolento, Adam West, Andrew Robinson (actor)]\n",
            "query: GOLDEN GLOBE WINNERS 2011: Chicago mayor Tom Kane\n",
            "Our list of answers ranked: [Willy Wonka, Gary Cooper, The Ninth Configuration, Bruce Willis, Tommy Lee Jones, Tom Wilkinson, Miranda Richardson, Larry McMurtry, Cybill, Steven Spielberg]\n",
            "query: I'M BURNIN' FOR YOU Pierre Cauchon, Bishop of Beauvais, presided over the trial of this woman who went up in smoke May 30, 1431\n",
            "Our list of answers ranked: [File:Traité de Troyes.svg|300px|thumb|1415-1429[tpl]Legend|#ea8b9d|Territories controlled by Henry VI of England[/tp, Joan of Arc, Medieval Inquisition, Roman Catholic Diocese of Beauvais, Hippolyte Aucouturier, Aretha Franklin, Martin Sheen, Mount Pelée, François Villon, Tucker Carlson]\n",
            "query: CEMETERIES On May 5, 1878 Alice Chambers was the last person buried in this Dodge City, Kansas cemetery\n",
            "Our list of answers ranked: [Doc Holliday, Boot Hill, George Law Curry, Panteón de Dolores, Robert Maitland O'Reilly, Henry Hart (musician), Edwin M. Shepard, Cremation, Gertrude Stein, Mormon Battalion]\n",
            "query: \"TIN\" MEN He served in the KGB before becoming president & then prime minister of Russia\n",
            "Our list of answers ranked: [Vladimir Putin, Yuri Andropov, Boris Berezovsky (businessman), Mikhail Gorbachev, Rajiv Gandhi, Russian Armed Forces, Richard Crossman, Politics of Russia, Politics of Latvia, List of James Bond films]\n",
            "query: POETS & POETRY She wrote, \"My candle burns at both ends... but, ah, my foes, and oh, my friends--it gives a lovely light\"\n",
            "Our list of answers ranked: [Margaret Avison, Nicole Brossard, Marina Tsvetaeva, Elinor Wylie, Edna St. Vincent Millay, Evelyn Lau, Leah Goldberg, Lisel Mueller, Shamim Azad, Poetry Bookshop]\n",
            "query: OLD YEAR'S RESOLUTIONS Feb. 1, National Freedom Day, is the date in 1865 when a resolution sent the states an amendment ending this\n",
            "Our list of answers ranked: [Emancipation Proclamation, Henry S. Foote, Pledge of Allegiance, Lambeth Conferences, Slavery in the United States, William O. Douglas, Zionism, International Telecommunication Union, Kentucky and Virginia Resolutions, History of Lebanon]\n",
            "query: HE PLAYED A GUY NAMED JACK RYAN IN... \"The Sum of All Fears\"; he also won a screenwriting Oscar for \"Good Will Hunting\"\n",
            "Our list of answers ranked: [Ben Affleck, Liev Schreiber, Gus Van Sant, Ron Rifkin, Miss Misery, William Goldman, Morgan Freeman, Chris Moore (film producer), Walter Matthau, Billy Wilder]\n",
            "\n",
            " give code as a python list\n",
            "Batch 8:\n",
            " Can you re-rank the answers for the following queries generated by our engine?\n",
            "Please only output a list of strings as text like: [str1, str2, str3], [str1, str2, str3]  \n",
            "query: THE QUOTABLE KEATS In an 1819 letter Keats wrote that this lord & poet \"cuts a figure, but he is not figurative\"\n",
            "Our list of answers ranked: [John Keats, La Belle Dame sans Merci, Hyperion (poem), Blank verse, Ode, Richard Monckton Milnes, 1st Baron Houghton, Edmund Spenser, Romanticism, Thomas Hood, John Clare]\n",
            "query: 1920s NEWS FLASH! News flash! This less-than-yappy pappy is sixth veep to be nation's top dog after chief takes deep sleep!\n",
            "Our list of answers ranked: [Santa's Little Helper, Minas Tirith, Guide dog, Harry Nilsson, Stan (song), Teemu Selänne, Staffordshire, Belinda Carlisle, Point-and-shoot camera, Large Marge]\n",
            "query: NOTES FROM THE CAMPAIGN TRAIL The Pulitzer-winning \"The Making of the President 1960\" covered this man's successful presidential campaign\n",
            "Our list of answers ranked: [Elmer Bernstein, Michael Dukakis, George McGovern, Hunter S. Thompson, James M. Cox, Revolving Door (advertisement), David Sheehan, Kathy Bates, Paul Coverdell, 1996 Republican National Convention]\n",
            "query: '80s NO.1 HITMAKERS 1988: \"Father Figure\"\n",
            "Our list of answers ranked: [Fontana Records, Them Again, Judy Rodman, Funk metal, Belinda (Belinda Carlisle album), Lockheed P-80 Shooting Star, Mark Fosson, Nikki & Rich, Lou Bega, The Kids from \"Fame\"]\n",
            "query: NAME THE PARENT COMPANY Crest toothpaste\n",
            "Our list of answers ranked: [Crest (toothpaste), Toothpaste, Procter & Gamble, Air India (football club), Great North Eastern Railway, Trust in Luton, 186th Infantry Regiment (United States), Jane Wyman, The Age, Dina Merrill]\n",
            "query: HISTORICAL HODGEPODGE In the 400s B.C. this Chinese philosopher went into exile for 12 years\n",
            "Our list of answers ranked: [Latin literature, Ezra, Dating creation, Zhang Binglin, Porphyry (philosopher), Panchen Lama, Numerology, Daphne Marlatt, Confucius, James Mill]\n",
            "query: AFRICAN-AMERICAN WOMEN When asked to describe herself, she says first & foremost, she is Malia & Sasha's mom\n",
            "Our list of answers ranked: [Michelle Obama, Octavia E. Butler, Sara Jane Olson, Tippi Hedren, Tippi Hedren, Meagan Good, Anna Faris, Kathleen Hanna, Dana Plato, Billie Holiday]\n",
            "query: POETS & POETRY In 1787 he signed his first published poem \"Axiologus\"; axio- is from the Greek for \"worth\"\n",
            "Our list of answers ranked: [George Crabbe, Bliss Carman, Agis of Argos, Friedrich Hölderlin, Horace, Anna Laetitia Barbauld, Lord Byron, William Wordsworth, Elizabeth Barrett Browning, Irish poetry]\n",
            "query: UCLA CELEBRITY ALUMNI This blonde beauty who reprised her role as Amanda on the new \"Melrose Place\" was a psychology major\n",
            "Our list of answers ranked: [Heather Locklear, Melrose Place, Grant Show, Lisa Rinna, Courtney Thorne-Smith, Kristin Davis, Gina Gershon, Denise Richards, Walter Koenig, Legally Blonde (musical)]\n",
            "query: AFRICAN-AMERICAN WOMEN Bessie Coleman, the first black woman licensed as a pilot, landed a street named in her honor at this Chicago airport\n",
            "Our list of answers ranked: [Bessie Coleman, Ida Cox, Pilot (aeronautics), Lambert–St. Louis International Airport, Ethel Waters, Jackson, Mississippi, Lani Guinier, Myrna Loy, Louis Armstrong, History of Tallahassee, Florida]\n",
            "\n",
            " give code as a python list\n",
            "Batch 9:\n",
            " Can you re-rank the answers for the following queries generated by our engine?\n",
            "Please only output a list of strings as text like: [str1, str2, str3], [str1, str2, str3]  \n",
            "query: OLD YEAR'S RESOLUTIONS The practice of pre-authorizing presidential use of force dates to a 1955 resolution re: this island near mainland China\n",
            "Our list of answers ranked: [Lin Sen, Taiwan, History of Cyprus, Taiwanization, History of the Republic of China, Taiwan Relations Act, China–United States relations, United Nations General Assembly Resolution 505, Kinmen, History of Oceania]\n",
            "query: GOLDEN GLOBE WINNERS In 2009: Joker on film\n",
            "Our list of answers ranked: [One Chance (film), Warren Beatty, Paul Le Mat, Geoffrey Rush, Helen Hunt, Jim Broadbent, Joan Plowright, Shirley MacLaine, Sally Kirkland, Olympia Dukakis]\n",
            "query: POETS & POETRY One of his \"Tales of a Wayside Inn\" begins, \"Listen, my children, and you shall hear of the midnight ride of Paul Revere\"\n",
            "Our list of answers ranked: [Óláfs saga Tryggvasonar, Christian Bök, Fenton Johnson (poet), John Neihardt, Baxter Black, Robert Hilles, Metaphysical poets, Derek Walcott, Jacme Grils, Géza Gyóni]\n",
            "query: UCLA CELEBRITY ALUMNI Neurobiologist Amy Farrah Fowler on \"The Big Bang Theory\", in real life she has a Ph.D. in neuroscience from UCLA\n",
            "Our list of answers ranked: [Mayim Bialik, Howard Wolowitz, Blossom (TV series), Amy Fowler, Raj Koothrappali, Danica McKellar, Laurie Metcalf, Michael J. Massimino, Ira Flatow, Heidelberg University]\n",
            "query: POTPOURRI In 2011 bell ringers for this charity started accepting digital donations to its red kettle\n",
            "Our list of answers ranked: [The Salvation Army, Pride London, Capital (radio network), Chadlington, Aloysius Society, Pró-Vida, Change ringing, St Andrew's Church, Tarvin, New York Stock Exchange, Agnes Scott College]\n",
            "query: \"TIN\" MEN This Italian painter depicted the \"Adoration of the Golden Calf\"\n",
            "Our list of answers ranked: [Nicolas Poussin, Themes in Italian Renaissance painting, Pietro Lorenzetti, Saint Casimir, Luca Signorelli, Édouard Manet, Hyacinthe Rigaud, History painting, Flatiron Building, Diego Velázquez]\n",
            "query: HISTORICAL HODGEPODGE The Ammonites held sway in this Mideast country in the 1200s B.C. & the capital is named for them\n",
            "Our list of answers ranked: [Raichur district, Culture of Italy, Rabbah, History of Yemen, History of the Republic of Macedonia, Wilberforce University, Edessa, Amman, Count palatine, Periplus of the Erythraean Sea]\n",
            "query: '80s NO.1 HITMAKERS 1980: \"Rock With You\"\n",
            "Our list of answers ranked: [Fontana Records, Them Again, Judy Rodman, Funk metal, Belinda (Belinda Carlisle album), Lockheed P-80 Shooting Star, Mark Fosson, Nikki & Rich, Lou Bega, The Kids from \"Fame\"]\n",
            "query: UCLA CELEBRITY ALUMNI For the brief time he attended, he was a rebel with a cause, even landing a lead role in a 1950 stage production\n",
            "Our list of answers ranked: [James Dean, Humphrey Bogart, John Huston, Errol Flynn, Ricardo Montalbán, Randolph Scott, Natalie Wood, Grant Show, Theodore Dwight Weld, Charlton Heston]\n",
            "query: GOLDEN GLOBE WINNERS In 2001: The president of the United States on television\n",
            "Our list of answers ranked: [Olympia Dukakis, James Whitmore, Celeste Holm, Geoffrey Rush, Larry McMurtry, George Stevens, Richard Dreyfuss, Fredric March, Jane Wyman, Edward James Olmos]\n",
            "\n",
            " give code as a python list\n",
            "Batch 10:\n",
            " Can you re-rank the answers for the following queries generated by our engine?\n",
            "Please only output a list of strings as text like: [str1, str2, str3], [str1, str2, str3]  \n",
            "query: 1920s NEWS FLASH! 1927! Gene Tunney takes a long count in the squared circle but rises to defeat this \"Manassa Mauler\"! Howzabout that!\n",
            "Our list of answers ranked: [Jack Dempsey, Max Schmeling, New Jersey Route 37, Rock-paper-scissors, Lou Stillman, Big band, Charleston (dance), Tommy Gibbons, New Jersey Route 26, New Jersey Route 33]\n",
            "query: THE QUOTABLE KEATS Keats was quoting this Edmund Spenser poem when he told Shelley to \"'load every rift' of your subject with ore\"\n",
            "Our list of answers ranked: [Ode, John Keats, Edmund Spenser, Ozymandias, English poetry, John Milton, Blank verse, Wilfred Owen, W. B. Yeats, Edmund Blunden]\n",
            "query: AFRICAN-AMERICAN WOMEN Rita Dove titled a collection of poems \"On the Bus with\" this woman\n",
            "Our list of answers ranked: [Nellie Y. McKay, Louise Erdrich, Queen Latifah, Elizabeth Barrett Browning, Rosa Parks, Katherine Mansfield, University of Virginia, Lesbian, Inez Milholland, Beautiful Dreamer]\n",
            "query: GREEK FOOD & DRINK The name of this dish of marinated lamb, skewered & grilled, comes from the Greek for \"skewer\" & also starts with \"s\"\n",
            "Our list of answers ranked: [Souvlaki, Awadhi cuisine, Serbian cuisine, Brazilian cuisine, Sausage, Dim sum, Breakfast, File:Pasta alla Norma (2563876877).jpg|thum, Korean cuisine, Diner]\n",
            "query: HISTORICAL HODGEPODGE This member of the Nixon & Ford cabinets was born in Furth, Germany in 1923\n",
            "Our list of answers ranked: [Henry Kissinger, William B. Saxbe, Strom Thurmond, Richard Nixon, Eisaku Satō, United States presidential line of succession, Nixon (film), Zbigniew Brzezinski, John Connally, Théophile Delcassé]\n",
            "query: '80s NO.1 HITMAKERS 1983: \"Beat It\"\n",
            "Our list of answers ranked: [Fontana Records, Them Again, Judy Rodman, Funk metal, Belinda (Belinda Carlisle album), Lockheed P-80 Shooting Star, Mark Fosson, Nikki & Rich, Lou Bega, The Kids from \"Fame\"]\n",
            "query: CAMBODIAN HISTORY & CULTURE The Royal Palace grounds feature a statue of King Norodom, who in the late 1800s was compelled to first put his country under the control of this European power; of course, it was sculpted in that country\n",
            "Our list of answers ranked: [History of Cambodia, Politics of Cambodia, Image:Your Majesty! at your age....jpg|thumb|upright|A political cartoon pillorying Leopold's affair with Caroline Lacroi, Khmer Rouge, Majapahit, Travancore, Cult of personality, Gustave Rolin-Jaequemyns, Siem Reap, History of Madagascar]\n",
            "query: GOLDEN GLOBE WINNERS In 2010: As Sherlock Holmes on film\n",
            "Our list of answers ranked: [I. A. L. Diamond, Hans Zimmer, Robert Downey, Jr., Sherlock Holmes, Basil Rathbone, Celeste Holm, John Dickson Carr, Feluda, Billy Wilder, Brian Cox (actor)]\n",
            "query: GREEK FOOD & DRINK Because it's cured & stored in brine, this crumbly white cheese made from sheep's milk is often referred to as pickled cheese\n",
            "Our list of answers ranked: [Feta, Norwegian cuisine, English cuisine, Breakfast, Australian cuisine, Sausage, Quark (dairy product), Serbian cuisine, Butter, Delicatessen]\n",
            "query: HE PLAYED A GUY NAMED JACK RYAN IN... \"The Hunt for Red October\"; he went more comedic as Jack Donaghy on \"30 Rock\"\n",
            "Our list of answers ranked: [Alec Baldwin, 30 Rock (season 6), Boulder International Film Festival, Harrison Ford, USS Dallas (SSN-700), Sean Connery, HMS Sceptre (S104), Klaus Maria Brandauer, James Earl Jones, William Baldwin]\n",
            "\n",
            " give code as a python list\n"
          ]
        }
      ],
      "source": [
        "# queries in batches\n",
        "for idx,q in enumerate(query_batches):\n",
        "  print(f\"Batch {idx+1}:\\n\",q)\n"
      ]
    },
    {
      "cell_type": "code",
      "execution_count": 45,
      "metadata": {
        "id": "CR0Sa1M9XvVe"
      },
      "outputs": [],
      "source": [
        "# since openai chatgpt api costs money,\n",
        "# we manually created 10 batches of queries and recorded the answers in following respective arrays\n",
        "\n",
        "cgpt1='[Edinburgh, Scotland, Church of Scotland], [The Atlanta Journal-Constitution, Georgia (U.S. state), Interstate 285], [Hasbro, Battleship (game), Axis & Allies], [Helsinki, Finland, Lutheran Cathedral], [Ottoman Empire, Turkish Republic, History of Armenia], [Ohio, Taft Museum of Art, Museum of Science and Industry (Chicago)], [Otto von Bismarck, Wilhelm II, Tear down this wall!], [Richard Nixon, American National Exhibition, Leonid Brezhnev], [Casablanca, Spanish words, Morocco], [William Henry Harrison, The Log Cabin, Horace Greeley]'\n",
        "cgpt2=\"[Cairo, Nile, Khartoum], [Six-Day War, Golan Heights, West Bank], [JAG, Mark Harmon, List of NCIS characters], [Arlington National Cemetery, USS Maine, Tomb of the Unknowns], [Knights of Columbus, Father Michael McGivney, Sacred Heart Catholic Church (McCartyville, Ohio)], [Three's Company, Don Knotts, Norman Fell], [Florida, Naples Museum of Art, Nativity scene], [New Mexico, Georgia O'Keeffe Museum, Alfred Stieglitz], [The Wall Street Journal, Daniel Hertzberg, James B. Stewart], [B'nai B'rith, Isaac Dittenhoefer, Cave of the Patriarchs]\"\n",
        "cgpt3=\"[Khmer language, History of Cambodia, Siem Reap], [Cycle rickshaw, Transport in Cambodia, Economy of Cambodia], [Michael Jackson, Michael Jackson, Man in the Mirror], [Anna Paquin, True Blood, Jimmy Harry], [The Help, Myrlie Evers-Williams, Myrlie Evers-Williams], [Hogan's Heroes, Stalag 13, John Carter (ER)], [Budapest, Matthias Church, Saint Matthias], [My Funny Valentine, Rodgers and Hart, Frank Sinatra], [Joe Tinker, Johnny Evers, Frank Chance], [Duce, Fascism in Europe, Benito Mussolini]\"\n",
        "cgpt4=\"[Aaron Burr, James R. Sharp, Richard Mentor Johnson], [Kangaroo, Marsupial, Koala], [Iberian Peninsula, Peninsular War, Napoleonic Wars], [San Francisco Chronicle, Mark Twain, Bret Harte], [Animal House, Otter, Flounder], [Mercedes-Benz Superdome, New Orleans, Saenger Theatre (New Orleans, Louisiana)], [Mattel, Little People, Hasbro], [Roe v. Wade, Supreme Court decision, N.Y. Times], [3M, Post-it notes, US Airways Group], [Idaho, The Sun Valley Center for the Arts, Edward Hopper]\"\n",
        "cgpt5=\"[Rob Reiner, UCLA, Meathead], [Kraft Foods, Jell-O, Jello mold], [Janet Jackson, Miss You Much, Fontana Records], [Madison, Wisconsin, USA, El Capitolio], [Cape Town, South Africa, Pretoria], [Philip IV of France, Jacques De Molay, Knights Templar], [Charles de Gaulle, France, World War II], [Rotary International, De Poelen, Dronrijp], [Komodo dragon, Indonesia, Conservation], [The Washington Post, Washington, D.C., USA]\"\n",
        "cgpt6=\"[Ouzo, Greece, Anise], [George Martin, Fifth Beatle, The Beatles], [Red Wolf, WWF, Bald Eagle], [Michigan, Kalamazoo Institute of Arts, Michael Bierut], [Richard E. Byrd, Bernt Balchen, South Pole], [Mezquita-Catedral, Mosque–Cathedral of Córdoba, Chichen Itza, Svetitskhoveli Cathedral], [Giant panda, Wolong Nature Reserve, China], [Alien and Sedition Acts, Kentucky and Virginia Resolutions, Acts of Congress], [Governor General of Canada, David Johnston, Canada], [Jackie Joyner-Kersee, UCLA, Heptathlon]\"\n",
        "cgpt7=\"[Monrovia, Liberia, United States, Jug Tavern], [Game Change, Julianne Moore, HBO], [Harrison Ford, Space, Jack Ryan], [Kelsey Grammer, Golden Globe, Boss], [Joan of Arc, Pierre Cauchon, Roman Catholic Diocese of Beauvais], [Boot Hill, Dodge City, Kansas], [Vladimir Putin, KGB, Russia], [Edna St. Vincent Millay, My Candle Burns at Both Ends], [Emancipation Proclamation, Slavery, United States], [Ben Affleck, Good Will Hunting, Jack Ryan]\"\n",
        "cgpt8=\"[John Keats, Lord Byron, William Wordsworth], [Richard Nixon, United States, Vice President of the United States], [The Making of the President 1960, John F. Kennedy, Theodore White], [Fontana Records, Father Figure, 1988], [Crest (toothpaste), Procter & Gamble, Toothpaste], [Confucius, Chinese philosopher, Zhang Binglin], [Michelle Obama, First Lady, Malia and Sasha's mom], [Horace, Axiologus, Greek, Worth], [Heather Locklear, Amanda, Melrose Place], [Bessie Coleman, Chicago airport, Street named in her honor]\"\n",
        "cgpt9=\"[Republic of China, Taiwan, Taiwan Relations Act], [Joker, One Chance (film), Warren Beatty], [Henry Wadsworth Longfellow, Paul Revere's Ride, Tales of a Wayside Inn], [Mayim Bialik, The Big Bang Theory, Amy Farrah Fowler], [The Salvation Army, Red kettle, Digital donations], [Nicolas Poussin, Adoration of the Golden Calf, Italian painter], [Ammonites, Amman, Mideast country], [Fontana Records, Rock With You, 1980], [James Dean, Rebel with a Cause, 1950 stage production], [The West Wing, 2001, President of the United States]\"\n",
        "cgpt10=\"[Jack Dempsey, Max Schmeling, Gene Tunney, Lou Stillman, Big band], [The Faerie Queene, John Keats, Edmund Spenser, Ode, English poetry], [Rosa Parks, Rita Dove, Beautiful Dreamer, Nellie Y. McKay, Louise Erdrich], [Souvlaki, Skewer, Awadhi cuisine, Serbian cuisine, Brazilian cuisine], [Henry Kissinger, Richard Nixon, William B. Saxbe, Zbigniew Brzezinski, John Connally], [Fontana Records, Beat It, Them Again, Judy Rodman, Funk metal], [France, History of Cambodia, Khmer Rouge, Majapahit, Travancore], [Sherlock Holmes, Robert Downey, Jr., Hans Zimmer, I. A. L. Diamond, Basil Rathbone], [Feta, Pickled cheese, Norwegian cuisine, English cuisine, Breakfast], [Alec Baldwin, 30 Rock (season 6), The Hunt for Red October, Harrison Ford, USS Dallas (SSN-700)]\"\n",
        "\n",
        "gpt_answers=[]\n",
        "\n",
        "for i in range(10):\n",
        "  eval(f'gpt_answers.append(cgpt{i+1})')"
      ]
    },
    {
      "cell_type": "code",
      "execution_count": 46,
      "metadata": {
        "id": "eDG1KuFeZphH"
      },
      "outputs": [],
      "source": [
        "# parsing and adding cgpt results to appropriate lists\n",
        "cgpt_answers=[]\n",
        "for a in gpt_answers:\n",
        "  answers_split=a.split('], ')\n",
        "\n",
        "  for a_c in answers_split:\n",
        "    c_list=[]\n",
        "    for str_response_answer in a_c.split(', '):\n",
        "      if str_response_answer.startswith('['):\n",
        "        c_list.append(str_response_answer[1:])\n",
        "      else:\n",
        "        c_list.append(str_response_answer)\n",
        "    cgpt_answers.append(c_list)\n"
      ]
    },
    {
      "cell_type": "code",
      "execution_count": 47,
      "metadata": {
        "id": "OJyXlzlnfSWO"
      },
      "outputs": [],
      "source": [
        "# storing gemini results manually\n",
        "\n",
        "gemini1=[[\"Church of Scotland\", \"John Knox\", \"Edinburgh\"],\n",
        "[\"The Atlanta Journal-Constitution\", \"Georgia (U.S. state)\", \"Atlanta\"],\n",
        "[\"Hasbro\", \"Milton Bradley\", \"Axis & Allies\"],\n",
        "[\"Helsinki\", \"Turku\", \"Finland\"],\n",
        "[\"Ottoman Empire\", \"Turkish Republic\", \"Trabzon\"],\n",
        "[\"Cincinnati, Ohio\", \"Ohio\", \"Taft Museum of Art\"],\n",
        "[\"Otto von Bismarck\", \"Germany\", \"Wilhelm II\"],\n",
        "[\"Richard Nixon\", \"Nikita Khrushchev\", \"American National Exhibition\"],\n",
        "[\"Casablanca\", \"Morocco\", \"Spanish\"],\n",
        "[\"William Henry Harrison\", \"Whig party\", \"Horace Greeley\"]\n",
        "]\n",
        "gemini2=[\n",
        "[\"Cairo\", \"Nile\", \"Egypt\"],\n",
        "[\"Six-Day War\", \"Israel\", \"Golan Heights\"],\n",
        "[\"NCIS\", \"JAG\", \"Mark Harmon\"],\n",
        "[\"Arlington National Cemetery\", \"USS Maine\", \"Washington D.C.\"],\n",
        "[\"Knights of Columbus\", \"Catholic\", \"Father Michael McGivney\"],\n",
        "[\"Three's Company\", \"Don Knotts\", \"Norman Fell\"],\n",
        "[\"Naples, Florida\", \"Florida\", \"Naples Museum of Art\"],\n",
        "[\"Santa Fe, New Mexico\", \"New Mexico\", \"Georgia O'Keeffe Museum\"],\n",
        "[\"The Wall Street Journal\", \"Daniel Hertzberg\", \"James B. Stewart\"],\n",
        "[\"B'nai B'rith\", \"Isaac Dittenhoefer\", \"Jewish\"]\n",
        "]\n",
        "\n",
        "gemini3=[\n",
        "[\"Khmer language\", \"Krama\", \"Cambodia\"],\n",
        "[\"Tuk-tuk\", \"Auto rickshaw\", \"Asia\"],\n",
        "[\"Michael Jackson\", \"Man In The Mirror\", \"1988\"],\n",
        "[\"Anna Paquin\", \"Sookie Stackhouse\", \"True Blood\"],\n",
        "[\"The Help\", \"Medgar Evers\", \"Myrlie Evers-Williams\"],\n",
        "[\"Hogan's Heroes\", \"Stalag 13\", \"Kinch\"],\n",
        "[\"Budapest\", \"Vienna\", \"Matthias Church\"],\n",
        "[\"Funny Girl\", \"Don't Rain on My Parade\", \"Barbra Streisand\"],\n",
        "[\"Tinker\", \"Evers & Chance\", \"Chicago Cubs\"] ,\n",
        "[\"Duce\", \"Benito Mussolini\", \"Italian\"]\n",
        "]\n",
        "gemini4=[\n",
        "[\"Aaron Burr\", \"James R. Sharp\", \"The Deadlocked Election of 1800\"],\n",
        "[\"Kangaroo\", \"Marsupial\", \"Australia\"],\n",
        "[\"Iberian Peninsula\", \"Peninsular War\", \"Spain\"],\n",
        "[\"San Francisco Chronicle\", \"Mark Twain\", \"Bret Harte\"],\n",
        "[\"Animal House\", \"Delta Tau Chi\", \"Comedy\"],\n",
        "[\"Mercedes-Benz Superdome\", \"New Orleans\", \"Louisiana\"],\n",
        "[\"Mattel\", \"Fisher-Price\", \"Toys\"],\n",
        "[\"Roe v. Wade\", \"Supreme Court\", \"New York Times\"],\n",
        "[\"3M\", \"Post-it notes\", \"Sticky notes\"],\n",
        "[\"Sun Valley, Idaho\", \"Idaho\", \"Sun Valley Center for the Arts\"]\n",
        "]\n",
        "gemini5=[\n",
        "[\"Rob Reiner\", \"Meathead\", \"UCLA\"],\n",
        "[\"Kraft Heinz\", \"Jell-O\", \"Food\"],\n",
        "[\"A-ha\", \"Miss You Much\", \"1989\"],\n",
        "[\"Monona, Wisconsin\", \"Granite dome\", \"Wisconsin\"],\n",
        "[\"Cape Town\", \"South Africa\", \"Port city\"],\n",
        "[\"Knights Templar\", \"Jacques De Molay\", \"Philip IV of France\"],\n",
        "[\"Charles de Gaulle\", \"France\", \"World War II\"],\n",
        "[\"Rotary International\", \"Gearwheel\", \"Emblem\"],\n",
        "[\"Komodo dragon\", \"Indonesia\", \"Lizard\"],\n",
        "[\"The Washington Post\", \"Washington D.C.\", \"Newspaper\"]\n",
        "]\n",
        "gemini6=[\n",
        "[\"Ouzo\", \"Greek liqueur\", \"Anise\"],\n",
        "[\"George Martin\", \"The Beatles\", \"Fifth Beatle\"],\n",
        "[\"World Wildlife Fund (WWF)\", \"Bald eagle\", \"Conservation\"],\n",
        "[\"Kalamazoo, Michigan\", \"Kalamazoo Institute of Arts\", \"Museum\"],\n",
        "[\"Richard E. Byrd\", \"South Pole\", \"Pilot\"],\n",
        "[\"Chichen Itza\", \"Sacred structure\", \"600s A.D.\"],\n",
        "[\"Giant panda\", \"Wolong Nature Preserve\", \"China\"],\n",
        "[\"Alien and Sedition Acts\", \"Kentucky and Virginia Resolutions\", \"1798\"],\n",
        "[\"Governor General of Canada\", \"David Johnston\", \"Queen's representative\"],\n",
        "[\"Jackie Joyner-Kersee\", \"UCLA\", \"Heptathlon\"]\n",
        "]\n",
        "gemini7=[\n",
        "[\"Monrovia\", \"Liberia\", \"Wooden verandas\"],\n",
        "[\"Game Change\", \"John McCain\", \"Sarah Palin\"],\n",
        "[\"Harrison Ford\", \"Jack Ryan\", \"Patriot Games\"],\n",
        "[\"Tom Hanks\", \"Chicago\", \"Golden Globe\"],\n",
        "[\"Joan of Arc\", \"Pierre Cauchon\", \"Trial\"],\n",
        "[\"Boot Hill\", \"Dodge City, Kansas\", \"Alice Chambers\"],\n",
        "[\"Vladimir Putin\", \"KGB\", \"President of Russia\"],\n",
        "[\"Edna St. Vincent Millay\", \"My candle burns at both ends\", \"Sonnet 14\"],\n",
        "[\"Slavery\", \"National Freedom Day\", \"13th Amendment\"],\n",
        "[\"Ben Affleck\", \"The Sum of All Fears\", \"Good Will Hunting\"]\n",
        "]\n",
        "gemini8=[\n",
        "[\"Lord Byron\", \"John Keats\", \"Figurative\"],\n",
        "[\"Calvin Coolidge\", \"Sixth vice president\", \"President\"],\n",
        "[\"John F. Kennedy\", \"The Making of the President 1960\", \"Pulitzer Prize\"],\n",
        "[\"Michael Jackson\", \"Father Figure\", \"1988\"],\n",
        "[\"Procter & Gamble\", \"Crest toothpaste\", \"Parent company\"],\n",
        "[\"Confucius\", \"Exile\", \"400s B.C.\"],\n",
        "[\"Michelle Obama\", \"Malia and Sasha's mom\", \"African-American women\"],\n",
        "[\"John Quincy Adams\", \"Axiologus\", \"Poet\"],\n",
        "[\"Heather Locklear\", \"UCLA\", \"Psychology major\"],\n",
        "[\"Chicago O'Hare International Airport\", \"Bessie Coleman\", \"Pilot\"]\n",
        "]\n",
        "gemini9=[\n",
        "[\"Taiwan\", \"Island\", \"Old Year's Resolutions\"],\n",
        "[\"Heath Ledger\", \"Joker\", \"Golden Globe\"],\n",
        "[\"Henry Wadsworth Longfellow\", \"Tales of a Wayside Inn\", \"Paul Revere\"],\n",
        "[\"Mayim Bialik\", \"Neuroscientist\", \"UCLA\"],\n",
        "[\"The Salvation Army\", \"Red kettle\", \"Charity\"],\n",
        "[\"Titian\", \"Adoration of the Golden Calf\", \"Italian painter\"],\n",
        "[\"Jordan\", \"Ammonites\", \"Mideast country\"],\n",
        "[\"Michael Jackson\", \"Rock With You\", \"1980\"],\n",
        "[\"James Dean\", \"UCLA\", \"Rebel\"],\n",
        "[\"Martin Sheen\", \"President of the United States\", \"Golden Globe\"]\n",
        "]\n",
        "gemini10=[\n",
        "[\"Jack Dempsey\", \"Manassa Mauler\", \"1927\"],\n",
        "[\"Epithalamion\", \"Edmund Spenser\", \"Keats\"],\n",
        "[\"Rosa Parks\", \"On the Bus with\", \"African-American women\"],\n",
        "[\"Souvlaki\", \"Skewer\", \"Greek food\"],\n",
        "[\"Henry Kissinger\", \"Nixon cabinet\", \"Germany\"],\n",
        "[\"Michael Jackson\", \"Beat It\", \"1983\"],\n",
        "[\"France\", \"Cambodia\", \"Royal Palace\"],\n",
        "[\"Robert Downey, Jr.\", \"Sherlock Holmes\", \"Golden Globe\"],\n",
        "[\"Feta\", \"Pickled cheese\", \"Greek food\"],\n",
        "[\"Alec Baldwin\", \"Jack Ryan\", \"30 Rock\"]\n",
        "]\n",
        "gemini_answers_raw=[]\n",
        "gemini_answers=[]\n",
        "for i in range(10):\n",
        "  eval(f'gemini_answers_raw.append(gemini{i+1})')\n"
      ]
    },
    {
      "cell_type": "code",
      "execution_count": 48,
      "metadata": {
        "id": "tOG7GnEPhM-h"
      },
      "outputs": [],
      "source": [
        "# parsing and adding gemini results to appropriate lists\n",
        "\n",
        "for a_lists in gemini_answers_raw:\n",
        "  for a_list in a_lists:\n",
        "    gemini_answers.append(a_list)"
      ]
    },
    {
      "cell_type": "code",
      "execution_count": 49,
      "metadata": {
        "colab": {
          "base_uri": "https://localhost:8080/"
        },
        "id": "X6xG1jWgbLJF",
        "outputId": "a0944b18-10f7-41f1-f08f-d4de07039868"
      },
      "outputs": [
        {
          "name": "stdout",
          "output_type": "stream",
          "text": [
            "MRR CGPT: 0.6683333333333334\n",
            "Precision@1 CGPT: 0.65\n",
            "MRR Gemini: 0.6633333333333333\n",
            "Precision@1 Gemini: 0.64\n"
          ]
        }
      ],
      "source": [
        "# calculating final metrics values\n",
        "\n",
        "mrr_cgpt = calculate_mrr(cgpt_answers, answers)\n",
        "precision_at_1_cgpt = calculate_precision_at_1(cgpt_answers, answers)\n",
        "\n",
        "print(\"MRR CGPT:\", mrr_cgpt)\n",
        "print(\"Precision@1 CGPT:\", precision_at_1_cgpt)\n",
        "\n",
        "\n",
        "mrr_gemini = calculate_mrr(gemini_answers, answers)\n",
        "precision_at_1_gemini = calculate_precision_at_1(gemini_answers, answers)\n",
        "\n",
        "print(\"MRR Gemini:\", mrr_gemini)\n",
        "print(\"Precision@1 Gemini:\", precision_at_1_gemini)\n"
      ]
    }
  ],
  "metadata": {
    "colab": {
      "collapsed_sections": [
        "Tce3stUlHN0L"
      ],
      "provenance": []
    },
    "kernelspec": {
      "display_name": "Python 3",
      "name": "python3"
    }
  },
  "nbformat": 4,
  "nbformat_minor": 0
}
